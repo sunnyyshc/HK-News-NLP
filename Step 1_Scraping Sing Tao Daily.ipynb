{
 "cells": [
  {
   "cell_type": "markdown",
   "metadata": {},
   "source": [
    "**Warning**: This scraping script is useless now, since Sing Tao Daily changed who they archive their articles.\n",
    "\n",
    "**Purpose**: Scraping for Sing Tao Daily articles from June 1, 2019 to Dec 30, 2019. \n",
    "\n",
    "**Goal**: A set of csv files with all Sing Tao Daily articles between the specified date range."
   ]
  },
  {
   "cell_type": "code",
   "execution_count": 1,
   "metadata": {},
   "outputs": [],
   "source": [
    "import bs4 as BeautifulSoup\n",
    "from urllib.request import Request, urlopen\n",
    "import re\n",
    "import pandas as pd\n",
    "import time\n",
    "import datetime"
   ]
  },
  {
   "cell_type": "code",
   "execution_count": 8,
   "metadata": {},
   "outputs": [],
   "source": [
    "sing_tao_archive_htm = \"C:/Users/sunny/Desktop/news_nlp/std_news.htm\"   # This htm file is a search result page generated \n",
    "                                                                        # by the Sing Tao Daily archive tool.\n",
    "                                                                        # It contains a list of articles links.\n",
    "sing_tao_daily_folder = 'C:/Users/sunny/Desktop/news_nlp/sing_tao_daily_collection/'"
   ]
  },
  {
   "cell_type": "code",
   "execution_count": 3,
   "metadata": {},
   "outputs": [],
   "source": [
    "# formatted current time\n",
    "\n",
    "def current_datetime():\n",
    "    return datetime.datetime.now().strftime(\"%Y/%m/%d - %H:%M:%S\")"
   ]
  },
  {
   "cell_type": "code",
   "execution_count": 4,
   "metadata": {},
   "outputs": [],
   "source": [
    "# read the html page to soup\n",
    "\n",
    "def page2soup(url):\n",
    "    req = Request(url, headers={'User-Agent': 'Mozilla/5.0'})\n",
    "    page = urlopen(req).read()\n",
    "    soup = BeautifulSoup.BeautifulSoup(page, \"html.parser\")\n",
    "    return soup"
   ]
  },
  {
   "cell_type": "code",
   "execution_count": 17,
   "metadata": {},
   "outputs": [],
   "source": [
    "# extract content from the article url\n",
    "\n",
    "def extract_content(url):\n",
    "    content_text=''\n",
    "    try:\n",
    "        soup = page2soup(url)\n",
    "        title = soup.find('div', class_=\"post-heading supplement-p-h\").find('h1').text.strip()\n",
    "        print('\\t\\t'+current_datetime() + ' : '+title)\n",
    "        author = soup.find('meta', attrs={'name': 'author'})[\"content\"]\n",
    "        date_cat = soup.find('div', class_=\"post-heading supplement-p-h\").find('div',class_=\"date\").text.strip()\n",
    "        date = date_cat[:10]\n",
    "        category = date_cat[10:]\n",
    "        for content in soup.find_all(\"div\", class_=\"post-content\"):\n",
    "            for p in content.find_all('p'):\n",
    "                content_text = content_text + p.text\n",
    "        one_article = [title,author,category,date,url,content_text]\n",
    "        return(one_article)\n",
    "    except:\n",
    "        print('Error777: Can not extract content : '+ str(url))\n",
    "        return(['no_title','no_author','no_category','1000-01-01',url,'no_content'])"
   ]
  },
  {
   "cell_type": "code",
   "execution_count": 18,
   "metadata": {},
   "outputs": [],
   "source": [
    "# save articles to csv files\n",
    "\n",
    "def export_to_csv(news_collection, c):\n",
    "    df = pd.DataFrame(news_collection, columns=['Title', 'Author', 'Category', 'Date', 'Link', 'Content'])\n",
    "    filename = sing_tao_daily_folder + 'sing_tao_daily_batch' + c + '.csv'\n",
    "    export_csv = df.to_csv(filename, index=None, header=True)\n",
    "    print(current_datetime() + ' : Exported batch ' + c + ' to csv.')"
   ]
  },
  {
   "cell_type": "code",
   "execution_count": 16,
   "metadata": {},
   "outputs": [
    {
     "name": "stdout",
     "output_type": "stream",
     "text": [
      "Total articles: 15130\n"
     ]
    }
   ],
   "source": [
    "'''\n",
    "Purpose: Load the pre-downloaded htm file and parse it\n",
    "Source: This file is manually downloaded from 星島日報 website\n",
    "using the site's dynamic search function.\n",
    "\n",
    "Filter date range : Jun 1, 2019 to Dec 31, 2019\n",
    "Filter category: \n",
    "hk 港聞 True\n",
    "wor 國際 True\n",
    "spt 體育\n",
    "fin 財經 True\n",
    "chi 中國 True\n",
    "ent 娛樂\n",
    "rac 馬經\n",
    "edu 教育 True\n",
    "pp 地產 True\n",
    "edi 社論 True\n",
    "ls 副刊\n",
    "'''\n",
    "with open(\"C:/Users/sunny/Desktop/news_nlp/std_news.htm\",\"r\", encoding=\"utf8\") as f:\n",
    "    contents = f.read()\n",
    "    soup = BeautifulSoup.BeautifulSoup(contents, \"html.parser\")\n",
    "\n",
    "search_result = soup.find(\"div\",class_=\"tab-content\",id = \"search-result\")\n",
    "result_by_category = search_result.find_all(\"div\",role=\"tabpanel\")\n",
    "\n",
    "# Extract all articles' link.\n",
    "article_ls=[]\n",
    "for c in result_by_category:\n",
    "    category= c.get(\"id\")\n",
    "    articles = c.find_all(\"a\")\n",
    "    for article in articles:\n",
    "        title = article.text.strip()\n",
    "        link = article[\"href\"]\n",
    "        one_article = [category, title, link]\n",
    "        article_ls.append(one_article)\n",
    "\n",
    "print('Total articles: ' + str(len(article_ls)))"
   ]
  },
  {
   "cell_type": "code",
   "execution_count": 20,
   "metadata": {},
   "outputs": [],
   "source": [
    "# Construct a news collection.\n",
    "\n",
    "def archive_news_collection(i):\n",
    "    print(current_datetime() + ' : Start extracting Sing Tao Daily news.')\n",
    "    news_collection = []\n",
    "    c=1\n",
    "    article_ls_len = len(article_ls[i:])\n",
    "\n",
    "    for a in article_ls[i:]:\n",
    "        try:\n",
    "            url = a[2]\n",
    "            article = extract_content(url)\n",
    "            news_collection.append(article)\n",
    "\n",
    "            # export news collection every hundred articles to save progress\n",
    "            if (c % 100 ==0 or c == article_ls_len):\n",
    "                export_to_csv(news_collection, c)\n",
    "                news_collection = []\n",
    "            c+=1\n",
    "        except:\n",
    "            print(current_datetime()+' : run into error.')\n",
    "            c+=1\n",
    "            time.sleep(3)\n",
    "            continue\n",
    "    print(current_datetime() + ' : Finished extracting news.')"
   ]
  },
  {
   "cell_type": "code",
   "execution_count": null,
   "metadata": {},
   "outputs": [],
   "source": [
    "archive_news_collection(0) # in case the loop fail, we can restart the download at a specific place in the list."
   ]
  }
 ],
 "metadata": {
  "kernelspec": {
   "display_name": "Python 3",
   "language": "python",
   "name": "python3"
  },
  "language_info": {
   "codemirror_mode": {
    "name": "ipython",
    "version": 3
   },
   "file_extension": ".py",
   "mimetype": "text/x-python",
   "name": "python",
   "nbconvert_exporter": "python",
   "pygments_lexer": "ipython3",
   "version": "3.8.5"
  }
 },
 "nbformat": 4,
 "nbformat_minor": 4
}
