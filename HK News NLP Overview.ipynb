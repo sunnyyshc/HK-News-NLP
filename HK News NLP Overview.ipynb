{
 "cells": [
  {
   "cell_type": "markdown",
   "metadata": {},
   "source": [
    "# Overview\n",
    "\n",
    "## Objective\n",
    "Use the NLP word2vec model to analyze two major Hong Kong news publishers' articles from June 1, 2019 to Dec 31, 2019. \n",
    "\n",
    "## Background\n",
    "- 2019 is where the Anti-Extradition Law Amendment Bill Movement begins and the second half of 2019 is where society sees the most turmoil. This period covers most of the significant events of the movement, before people pause and shift their focus to the COVID-19 pandemic.\n",
    "\n",
    "- The two publishers chosen for the project are Stand News and Sing Tao Daily, which carry an opposite political view (but not the most extreme). Also, Stand News is a relatively new online news platform, whereas Sing Tao Daily is a traditional newspaper publisher.\n",
    "\n",
    "## Observation\n",
    "1. When comparing the most similar words for 警察 (police), the Stand News has much more verbs and most a negative, such as 抓人/濫捕 (arrest), 叫罵 (yelling), 亂射/射頭/平射/射人 (shooting), 圍打/濫暴/扑頭/虐打/亂打 (violence). Meanwhile, Sing Tao Daily are mostly nouns. We can see a similar finding, but verse, when comparing the most similar words for 示威者 (protestor).\n",
    "\n",
    "2. When comparing the most similar words for 白衣人 (men in white t-shirts), both published present a similar token list. The fact that both lists are very similar could suggest both publishers hold a similar view on the men in white t-shirts. Also, on both of the lists, we get the basic details of the event that the men in white t-shirts are involved in. For example, 7.21/七二一 (July  21) is the date, 元朗/西鐵站 (Yuen Long Station) is the location, 無差別襲擊/施襲 (indiscriminate attack) is the action. \n",
    "\n",
    "3. You can see protestors are highly associated with 遮陣/傘陣 (umbrella formation), which is a popular defence measure against rubber bullets and water cannons.\n",
    "\n",
    "## Challenges\n",
    "1. **Accessibility**: While there are many tutorials and resources for the English NLP project, there are much fewer for Chinese and even more limited for traditional Chinese. For example, Jieba, the tokenization library used in this project, is designed for simplified Chinese, which is a bit different compared to the traditional Chinese dialogue. Even applying its 'traditional Chinese' dictionary, the parsing still has a lot of room for improvement. This means the researcher has to put in extra effort when conducting a traditional Chinese NLP project compared to an English NLP project. Also, it would be difficult for someone without any Chinese background to fully understand and verify the NLP result, the language barrier adds another layer of difficulties.\n",
    "\n",
    "2. **Community**: There are many new terms created during the movement, such as 和理非 (peaceful, reasonable, non-violence protestors), 黃/藍絲 (used to describe the supporter of the different side of the movement), etc. These are not in the dictionary and would rely on researchers or the community to build into the library, but such community either does not exist or not very popular.\n",
    "\n",
    "3. **Reliability**: Materials on the internet can easily be modified or removed. Articles that are not archived could have been changed or removed from the publisher's website. Such incidents have occurred multiple times even on government websites during the movement. Researches that are conducted at a different time may yield a different conclusion. To combat this issue, NLP researchers may need to borrow wisdom from historians; on the technology site, blockchain would be a promising solution too, because of its decentralized characteristic.\n",
    "\n",
    "## Reflection\n",
    "This project has allowed me to explored NLP in the Chinese and historical research domain. The result demonstrates the word2vec model is robust even when it is dealing with the Chinese language and a minimally processed dataset. It is also a very effective research tool for media research given the insight we can uncover with a simple model. With the advancement of NLP, such as the GPT-3, I am excited to see more applications of NLP in our daily life."
   ]
  }
 ],
 "metadata": {
  "kernelspec": {
   "display_name": "Python 3",
   "language": "python",
   "name": "python3"
  },
  "language_info": {
   "codemirror_mode": {
    "name": "ipython",
    "version": 3
   },
   "file_extension": ".py",
   "mimetype": "text/x-python",
   "name": "python",
   "nbconvert_exporter": "python",
   "pygments_lexer": "ipython3",
   "version": "3.8.5"
  }
 },
 "nbformat": 4,
 "nbformat_minor": 4
}
