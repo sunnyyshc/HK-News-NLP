{
 "cells": [
  {
   "cell_type": "markdown",
   "metadata": {},
   "source": [
    "**Purpose**: Fit data to word2vec model and use tnse to reduce word2vec model to 2D so we can plot the vector in the next step."
   ]
  },
  {
   "cell_type": "code",
   "execution_count": 1,
   "metadata": {},
   "outputs": [],
   "source": [
    "import os\n",
    "import time\n",
    "import pickle\n",
    "import multiprocessing\n",
    "import gensim.models.word2vec as w2v\n",
    "import sklearn.manifold\n",
    "from sklearn import decomposition\n",
    "import numpy as np\n",
    "#from sklearn.decomposition import IncrementalPCA    # inital reduction\n",
    "from sklearn.manifold import TSNE\n",
    "import pandas as pd\n",
    "import matplotlib\n",
    "%matplotlib notebook\n",
    "import matplotlib.pylab as plt\n",
    "from matplotlib.font_manager import FontProperties\n",
    "import seaborn as sns"
   ]
  },
  {
   "cell_type": "code",
   "execution_count": 2,
   "metadata": {},
   "outputs": [],
   "source": [
    "base_path = 'C:/Users/sunny/Desktop/news_nlp/'\n",
    "#publisher='立場報道'\n",
    "publisher='星島日報'\n",
    "os.chdir(base_path)"
   ]
  },
  {
   "cell_type": "code",
   "execution_count": 3,
   "metadata": {},
   "outputs": [],
   "source": [
    "# load sent using pickle\n",
    "sent_pkl = os.path.join(publisher + '_sent.pkl')\n",
    "\n",
    "with open(sent_pkl, \"rb\") as f:   # Unpickling\n",
    "    sent= pickle.load(f)"
   ]
  },
  {
   "cell_type": "code",
   "execution_count": 4,
   "metadata": {},
   "outputs": [
    {
     "name": "stdout",
     "output_type": "stream",
     "text": [
      "Token count: 4832477\n"
     ]
    }
   ],
   "source": [
    "token_count = sum([len(s) for s in sent])\n",
    "print(f'Token count: {token_count}')"
   ]
  },
  {
   "cell_type": "code",
   "execution_count": 5,
   "metadata": {
    "scrolled": true
   },
   "outputs": [
    {
     "name": "stdout",
     "output_type": "stream",
     "text": [
      "Word2Vec vocabulary length: 26890\n",
      "Finished fitting data to model in 110.32 secound(s)\n"
     ]
    }
   ],
   "source": [
    "# word2vec documentation: https://radimrehurek.com/gensim/models/word2vec.html\n",
    "#define hyperparameters\n",
    "\n",
    "start = time.perf_counter()\n",
    "\n",
    "# Dimensionality of the resulting word vectors.\n",
    "#more dimensions mean more traiig them, but more generalized\n",
    "num_features = 300\n",
    "\n",
    "#\n",
    "# Minimum word count threshold.\n",
    "min_word_count = 10\n",
    "\n",
    "# Number of threads to run in parallel.\n",
    "num_workers = multiprocessing.cpu_count()\n",
    "\n",
    "# Context window length.\n",
    "context_size = 10\n",
    "\n",
    "# Downsample setting for frequent words.\n",
    "#rate 0 and 1e-5\n",
    "#how often to use\n",
    "downsampling = 1e-3\n",
    "\n",
    "# Seed for the RNG, to make the results reproducible.\n",
    "seed = 1\n",
    "\n",
    "#model\n",
    "article_word2vec = w2v.Word2Vec(\n",
    "    sg=1, # Training algorithm: 1 for skip-gram; otherwise CBOW.\n",
    "    seed=seed,\n",
    "    workers=num_workers,\n",
    "    vector_size=num_features,\n",
    "    min_count=min_word_count,\n",
    "    window=context_size,\n",
    "    sample=downsampling\n",
    ")\n",
    "\n",
    "\n",
    "article_word2vec.build_vocab(corpus_iterable = sent)\n",
    "print(\"Word2Vec vocabulary length:\", len(article_word2vec.wv))\n",
    "    # https://github.com/RaRe-Technologies/gensim/wiki/Migrating-from-Gensim-3.x-to-4#4-vocab-dict-became-key_to_index-for-looking-up-a-keys-integer-index-or-get_vecattr-and-set_vecattr-for-other-per-key-attributes\n",
    "    #rock_idx = model.wv.vocab[\"rock\"].index  # 🚫\n",
    "    #rock_cnt = model.wv.vocab[\"rock\"].count  # 🚫\n",
    "    #vocab_len = len(model.wv.vocab)  # 🚫\n",
    "\n",
    "    #rock_idx = model.wv.key_to_index[\"rock\"]\n",
    "    #rock_cnt = model.wv.get_vecattr(\"rock\", \"count\")  # 👍\n",
    "    #vocab_len = len(model.wv)  # 👍\n",
    "    \n",
    "        \n",
    "#train model\n",
    "article_word2vec.train(corpus_iterable =sent,\n",
    "                       total_examples=article_word2vec.corpus_count,\n",
    "                       #total_words = len(article_word2vec.wv),\n",
    "                       epochs=10)\n",
    "#save model\n",
    "article_word2vec.save(publisher + '_word2vec.w2v')\n",
    "\n",
    "finish = time.perf_counter()\n",
    "print(f'Finished fitting data to model in {round(finish-start, 2)} secound(s)')"
   ]
  },
  {
   "cell_type": "code",
   "execution_count": 8,
   "metadata": {},
   "outputs": [],
   "source": [
    "# Load the model from wd.\n",
    "model= w2v.Word2Vec.load(publisher + '_word2vec.w2v')"
   ]
  },
  {
   "cell_type": "code",
   "execution_count": 9,
   "metadata": {},
   "outputs": [],
   "source": [
    "# Reduce word2vec vectors to 2D using tsne, so we can plot them in the next step.\n",
    "\n",
    "def reduce_dimensions(model):\n",
    "    num_dimensions = 2  # final num dimensions (2D, 3D, etc)\n",
    "\n",
    "    # extract the words & their vectors, as numpy arrays\n",
    "    vectors = np.asarray(model.wv.vectors)\n",
    "    labels = np.asarray(model.wv.index_to_key)  # fixed-width numpy strings\n",
    "\n",
    "    # reduce using t-SNE\n",
    "    tsne = TSNE(n_components=num_dimensions, random_state=0)\n",
    "    two_dim_vectors = tsne.fit_transform(vectors)\n",
    "\n",
    "    x_vals = [v[0] for v in two_dim_vectors]\n",
    "    y_vals = [v[1] for v in two_dim_vectors]\n",
    "    \n",
    "    df = pd.DataFrame(list(zip(labels,x_vals,y_vals)), columns=['token', 'x', 'y'])\n",
    "    return df"
   ]
  },
  {
   "cell_type": "code",
   "execution_count": 10,
   "metadata": {},
   "outputs": [
    {
     "name": "stdout",
     "output_type": "stream",
     "text": [
      "Finished dimension reduction in 420.75 secound(s)\n"
     ]
    }
   ],
   "source": [
    "start = time.perf_counter()\n",
    "df = reduce_dimensions(model)\n",
    "finish = time.perf_counter()\n",
    "print(f'Finished dimension reduction in {round(finish-start, 2)} secound(s)')\n",
    "\n",
    "tnse_result = os.path.join(base_path, publisher + '_2d_tsne.pkl')\n",
    "\n",
    "with open(tnse_result, \"wb\") as f:   #Pickling\n",
    "    pickle.dump(df, f)"
   ]
  },
  {
   "cell_type": "code",
   "execution_count": 11,
   "metadata": {
    "scrolled": false
   },
   "outputs": [],
   "source": [
    "tnse_result = os.path.join(base_path, publisher + '_2d_tsne.pkl')\n",
    "with open(tnse_result, \"rb\") as f:   # Unpickling\n",
    "    df= pickle.load(f)"
   ]
  },
  {
   "cell_type": "code",
   "execution_count": 12,
   "metadata": {
    "scrolled": true
   },
   "outputs": [
    {
     "data": {
      "text/html": [
       "<div>\n",
       "<style scoped>\n",
       "    .dataframe tbody tr th:only-of-type {\n",
       "        vertical-align: middle;\n",
       "    }\n",
       "\n",
       "    .dataframe tbody tr th {\n",
       "        vertical-align: top;\n",
       "    }\n",
       "\n",
       "    .dataframe thead th {\n",
       "        text-align: right;\n",
       "    }\n",
       "</style>\n",
       "<table border=\"1\" class=\"dataframe\">\n",
       "  <thead>\n",
       "    <tr style=\"text-align: right;\">\n",
       "      <th></th>\n",
       "      <th>token</th>\n",
       "      <th>x</th>\n",
       "      <th>y</th>\n",
       "    </tr>\n",
       "  </thead>\n",
       "  <tbody>\n",
       "    <tr>\n",
       "      <th>0</th>\n",
       "      <td>，</td>\n",
       "      <td>2.282656</td>\n",
       "      <td>-3.063334</td>\n",
       "    </tr>\n",
       "    <tr>\n",
       "      <th>1</th>\n",
       "      <td></td>\n",
       "      <td>3.583279</td>\n",
       "      <td>-3.037843</td>\n",
       "    </tr>\n",
       "    <tr>\n",
       "      <th>2</th>\n",
       "      <td>的</td>\n",
       "      <td>1.290142</td>\n",
       "      <td>-3.628560</td>\n",
       "    </tr>\n",
       "    <tr>\n",
       "      <th>3</th>\n",
       "      <td>「</td>\n",
       "      <td>-5.782082</td>\n",
       "      <td>10.856745</td>\n",
       "    </tr>\n",
       "    <tr>\n",
       "      <th>4</th>\n",
       "      <td>在</td>\n",
       "      <td>3.714983</td>\n",
       "      <td>-1.637922</td>\n",
       "    </tr>\n",
       "    <tr>\n",
       "      <th>5</th>\n",
       "      <td>、</td>\n",
       "      <td>1.937181</td>\n",
       "      <td>-4.611476</td>\n",
       "    </tr>\n",
       "    <tr>\n",
       "      <th>6</th>\n",
       "      <td>」</td>\n",
       "      <td>-5.773089</td>\n",
       "      <td>10.871822</td>\n",
       "    </tr>\n",
       "    <tr>\n",
       "      <th>7</th>\n",
       "      <td>及</td>\n",
       "      <td>1.829747</td>\n",
       "      <td>-4.265761</td>\n",
       "    </tr>\n",
       "  </tbody>\n",
       "</table>\n",
       "</div>"
      ],
      "text/plain": [
       "  token         x          y\n",
       "0     ，  2.282656  -3.063334\n",
       "1     　  3.583279  -3.037843\n",
       "2     的  1.290142  -3.628560\n",
       "3     「 -5.782082  10.856745\n",
       "4     在  3.714983  -1.637922\n",
       "5     、  1.937181  -4.611476\n",
       "6     」 -5.773089  10.871822\n",
       "7     及  1.829747  -4.265761"
      ]
     },
     "execution_count": 12,
     "metadata": {},
     "output_type": "execute_result"
    }
   ],
   "source": [
    "df.head(8)"
   ]
  }
 ],
 "metadata": {
  "kernelspec": {
   "display_name": "Python 3",
   "language": "python",
   "name": "python3"
  },
  "language_info": {
   "codemirror_mode": {
    "name": "ipython",
    "version": 3
   },
   "file_extension": ".py",
   "mimetype": "text/x-python",
   "name": "python",
   "nbconvert_exporter": "python",
   "pygments_lexer": "ipython3",
   "version": "3.8.5"
  }
 },
 "nbformat": 4,
 "nbformat_minor": 4
}
