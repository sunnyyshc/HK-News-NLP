{
 "cells": [
  {
   "cell_type": "markdown",
   "metadata": {},
   "source": [
    "**Purpose**: Process the raw data to data we can fit to model in the next step.\n",
    "- Concat data\n",
    "- format data\n",
    "- insert feature variable\n",
    "- sent segmentation\n",
    "- tokenization."
   ]
  },
  {
   "cell_type": "code",
   "execution_count": 1,
   "metadata": {},
   "outputs": [],
   "source": [
    "import os\n",
    "import glob\n",
    "import re\n",
    "import pandas as pd\n",
    "import time"
   ]
  },
  {
   "cell_type": "code",
   "execution_count": 2,
   "metadata": {},
   "outputs": [],
   "source": [
    "# process the csv files and constuct a df\n",
    "\n",
    "def process_csv(source, base_path, date_format, publisher):\n",
    "    \n",
    "    # combine csv   \n",
    "    os.chdir(source)\n",
    "    all_filenames = [i for i in glob.glob(source + '*.csv')]\n",
    "    df = pd.concat([pd.read_csv(f) for f in all_filenames]) # concat all csv\n",
    "    \n",
    "    # drop duplicates and faulty data\n",
    "    df.drop_duplicates(inplace=True)                 # delete duplicate\n",
    "    df = df[df['Content'].astype(str).map(len)> 50]  # delete articles with content less than 50 characters\n",
    "                                                     # This will drop all the failed cases too. \n",
    "\n",
    "        \n",
    "    # feature and formatting\n",
    "    df['Is_offical']=df['Author'].apply(lambda offical: offical==publisher)\n",
    "    df['Content_len']=df['Content'].str.len()\n",
    "    df['Date']=pd.to_datetime(df['Date'],format=date_format) # Convert date str to date\n",
    "    df.sort_values(by=['Date','Author','Category'],inplace=True) # sort data\n",
    "    df = df.reset_index(drop=True)                               # reset index\n",
    "        \n",
    "    # export to csv\n",
    "    df.to_csv(base_path + publisher + \"_concat.csv\", index=False) #encoding='utf-8-sig'\n",
    "    print('Saved: ' + base_path + publisher + \"_concat.csv\")\n",
    "    \n",
    "    return df"
   ]
  },
  {
   "cell_type": "code",
   "execution_count": 17,
   "metadata": {},
   "outputs": [
    {
     "name": "stdout",
     "output_type": "stream",
     "text": [
      "Saved: C:/Users/sunny/Desktop/news_nlp/立場報道_concat.csv\n"
     ]
    }
   ],
   "source": [
    "stand_news_folder = 'C:/Users/sunny/Desktop/news_nlp/stand_news_collection/'\n",
    "sing_tao_daily_folder = 'C:/Users/sunny/Desktop/news_nlp/sing_tao_daily_collection/'\n",
    "base_path = 'C:/Users/sunny/Desktop/news_nlp/'\n",
    "date_format='%Y/%m/%d — %H:%M'\n",
    "publisher='立場報道'\n",
    "\n",
    "stand_news_df = process_csv(stand_news_folder, base_path, date_format, publisher)"
   ]
  },
  {
   "cell_type": "markdown",
   "metadata": {},
   "source": [
    "Lets examine the raw data."
   ]
  },
  {
   "cell_type": "code",
   "execution_count": 18,
   "metadata": {},
   "outputs": [
    {
     "data": {
      "text/html": [
       "<div>\n",
       "<style scoped>\n",
       "    .dataframe tbody tr th:only-of-type {\n",
       "        vertical-align: middle;\n",
       "    }\n",
       "\n",
       "    .dataframe tbody tr th {\n",
       "        vertical-align: top;\n",
       "    }\n",
       "\n",
       "    .dataframe thead th {\n",
       "        text-align: right;\n",
       "    }\n",
       "</style>\n",
       "<table border=\"1\" class=\"dataframe\">\n",
       "  <thead>\n",
       "    <tr style=\"text-align: right;\">\n",
       "      <th></th>\n",
       "      <th>Title</th>\n",
       "      <th>Author</th>\n",
       "      <th>Category</th>\n",
       "      <th>Date</th>\n",
       "      <th>Link</th>\n",
       "      <th>Content</th>\n",
       "      <th>Is_offical</th>\n",
       "      <th>Content_len</th>\n",
       "    </tr>\n",
       "  </thead>\n",
       "  <tbody>\n",
       "    <tr>\n",
       "      <th>0</th>\n",
       "      <td>三大社運種籽發芽　推倒送中惡法可勝</td>\n",
       "      <td>練乙錚</td>\n",
       "      <td>政治</td>\n",
       "      <td>2019-06-01 00:00:00</td>\n",
       "      <td>https://www.thestandnews.com/politics/%E4%B8%8...</td>\n",
       "      <td>反對修訂《逃犯條例》的運動正風起雲湧，政府出盡吃奶力投入的「正能量」，卻成為運動的火種。大家...</td>\n",
       "      <td>False</td>\n",
       "      <td>3162</td>\n",
       "    </tr>\n",
       "    <tr>\n",
       "      <th>1</th>\n",
       "      <td>一座現代城市的編年史，我心中主流神劇之最：HBO《The Wire》（篇九）</td>\n",
       "      <td>陳裕匡</td>\n",
       "      <td>文化</td>\n",
       "      <td>2019-06-01 09:55:00</td>\n",
       "      <td>https://www.thestandnews.com/culture/%E4%B8%80...</td>\n",
       "      <td>（九）要你專注的一種形式本文含有《The Wire》的Spoilers，請斟酌使用身邊在看、...</td>\n",
       "      <td>False</td>\n",
       "      <td>883</td>\n",
       "    </tr>\n",
       "    <tr>\n",
       "      <th>2</th>\n",
       "      <td>李顯龍：中國壯大改變戰略平衡，中國與全球都須調整適應，中美衝突雙方都不可能垮台</td>\n",
       "      <td>立場報道</td>\n",
       "      <td>國際</td>\n",
       "      <td>2019-06-01 10:00:00</td>\n",
       "      <td>https://www.thestandnews.com/international/%E6...</td>\n",
       "      <td>新加坡總理李顯龍表示，中國自改革開放後取得的增長改變了戰略平衡，也轉移了世界的經濟重心。中國...</td>\n",
       "      <td>True</td>\n",
       "      <td>1525</td>\n",
       "    </tr>\n",
       "    <tr>\n",
       "      <th>3</th>\n",
       "      <td>不是「代表你」，而是為自己發聲</td>\n",
       "      <td>邢福增</td>\n",
       "      <td>政治</td>\n",
       "      <td>2019-06-01 10:16:00</td>\n",
       "      <td>https://www.thestandnews.com/politics/%E4%B8%8...</td>\n",
       "      <td>在多元化的社會，群體有不同意見，是十分正常的現象。在一元化的社會，掌權者卻聲稱自己擁有最廣泛...</td>\n",
       "      <td>False</td>\n",
       "      <td>704</td>\n",
       "    </tr>\n",
       "    <tr>\n",
       "      <th>4</th>\n",
       "      <td>美國務卿警告德國：使用華為設備就不要想共享情報</td>\n",
       "      <td>立場報道</td>\n",
       "      <td>國際</td>\n",
       "      <td>2019-06-01 10:46:00</td>\n",
       "      <td>https://www.thestandnews.com/international/%E7...</td>\n",
       "      <td>路透社報道，美國周五（5月31日）向西方盟友施壓，稱允許中國華為建設電信基礎設施的國家可能被...</td>\n",
       "      <td>True</td>\n",
       "      <td>778</td>\n",
       "    </tr>\n",
       "  </tbody>\n",
       "</table>\n",
       "</div>"
      ],
      "text/plain": [
       "                                     Title Author Category  \\\n",
       "0                        三大社運種籽發芽　推倒送中惡法可勝    練乙錚       政治   \n",
       "1   一座現代城市的編年史，我心中主流神劇之最：HBO《The Wire》（篇九）    陳裕匡       文化   \n",
       "2  李顯龍：中國壯大改變戰略平衡，中國與全球都須調整適應，中美衝突雙方都不可能垮台   立場報道       國際   \n",
       "3                          不是「代表你」，而是為自己發聲    邢福增       政治   \n",
       "4                  美國務卿警告德國：使用華為設備就不要想共享情報   立場報道       國際   \n",
       "\n",
       "                 Date                                               Link  \\\n",
       "0 2019-06-01 00:00:00  https://www.thestandnews.com/politics/%E4%B8%8...   \n",
       "1 2019-06-01 09:55:00  https://www.thestandnews.com/culture/%E4%B8%80...   \n",
       "2 2019-06-01 10:00:00  https://www.thestandnews.com/international/%E6...   \n",
       "3 2019-06-01 10:16:00  https://www.thestandnews.com/politics/%E4%B8%8...   \n",
       "4 2019-06-01 10:46:00  https://www.thestandnews.com/international/%E7...   \n",
       "\n",
       "                                             Content  Is_offical  Content_len  \n",
       "0  反對修訂《逃犯條例》的運動正風起雲湧，政府出盡吃奶力投入的「正能量」，卻成為運動的火種。大家...       False         3162  \n",
       "1  （九）要你專注的一種形式本文含有《The Wire》的Spoilers，請斟酌使用身邊在看、...       False          883  \n",
       "2  新加坡總理李顯龍表示，中國自改革開放後取得的增長改變了戰略平衡，也轉移了世界的經濟重心。中國...        True         1525  \n",
       "3  在多元化的社會，群體有不同意見，是十分正常的現象。在一元化的社會，掌權者卻聲稱自己擁有最廣泛...       False          704  \n",
       "4  路透社報道，美國周五（5月31日）向西方盟友施壓，稱允許中國華為建設電信基礎設施的國家可能被...        True          778  "
      ]
     },
     "execution_count": 18,
     "metadata": {},
     "output_type": "execute_result"
    }
   ],
   "source": [
    "stand_news_df.head(5)"
   ]
  },
  {
   "cell_type": "code",
   "execution_count": 20,
   "metadata": {},
   "outputs": [
    {
     "data": {
      "text/plain": [
       "count    13257.000000\n",
       "mean      1201.547635\n",
       "std       1304.898046\n",
       "min         56.000000\n",
       "25%        538.000000\n",
       "50%        871.000000\n",
       "75%       1413.000000\n",
       "max      33142.000000\n",
       "Name: Content_len, dtype: float64"
      ]
     },
     "execution_count": 20,
     "metadata": {},
     "output_type": "execute_result"
    }
   ],
   "source": [
    "stand_news_df['Content_len'].describe()    # article length"
   ]
  },
  {
   "cell_type": "code",
   "execution_count": 8,
   "metadata": {
    "scrolled": true
   },
   "outputs": [],
   "source": [
    "# Sentence Segmentation and Tokenization \n",
    "def sent_segmentation_and_tokenization(base_path,publisher):\n",
    "    import jieba\n",
    "    import pickle\n",
    "\n",
    "    start = time.perf_counter()\n",
    "\n",
    "    # Sentence Segmentation\n",
    "\n",
    "    raw_csv_path=os.path.join(base_path, publisher + '_concat.csv')\n",
    "    df = pd.read_csv(raw_csv_path)\n",
    "    #df = df.loc[df['Author']=='立場報道'] # only keep article written by publisher\n",
    "    df['Sentence']= df['Content'].apply(lambda text: re.split(\"\\n|。」|！」|\\!」|？」|\\?」|。|？|\\?|！|!|;|；\",str(text)))\n",
    "\n",
    "\n",
    "    # Tokenization \n",
    "    os.chdir(base_path)\n",
    "    jieba.set_dictionary('dict.txt.big')\n",
    "    jieba.load_userdict(\"hk_dict.txt\") # dictionary of Hong Kong local names and terms\n",
    "    sent_ls = df['Sentence'].tolist()\n",
    "    sent = [list(jieba.cut(sent,cut_all=False)) for article in sent_ls for sent in article]\n",
    "\n",
    "    sent_pkl = os.path.join(base_path, publisher + '_sent.pkl')\n",
    "\n",
    "\n",
    "\n",
    "    with open(sent_pkl, \"wb\") as f:   #Pickling\n",
    "        pickle.dump(sent, f)\n",
    "\n",
    "    finish = time.perf_counter()\n",
    "    print(f'Finished sentence segementation and tokenization in {round(finish-start, 2)} secound(s)')\n"
   ]
  },
  {
   "cell_type": "code",
   "execution_count": 35,
   "metadata": {},
   "outputs": [],
   "source": [
    "# load sent using pickle\n",
    "with open(sent_pkl, \"rb\") as f:   # Unpickling\n",
    "    sent= pickle.load(f)"
   ]
  },
  {
   "cell_type": "code",
   "execution_count": 40,
   "metadata": {
    "scrolled": true
   },
   "outputs": [
    {
     "data": {
      "text/plain": [
       "['反對',\n",
       " '修訂',\n",
       " '《',\n",
       " '逃犯條例',\n",
       " '》',\n",
       " '的',\n",
       " '運動',\n",
       " '正風',\n",
       " '起雲',\n",
       " '湧',\n",
       " '，',\n",
       " '政府',\n",
       " '出盡',\n",
       " '吃奶',\n",
       " '力',\n",
       " '投入',\n",
       " '的',\n",
       " '「',\n",
       " '正',\n",
       " '能量',\n",
       " '」',\n",
       " '，',\n",
       " '卻',\n",
       " '成為',\n",
       " '運動',\n",
       " '的',\n",
       " '火種']"
      ]
     },
     "execution_count": 40,
     "metadata": {},
     "output_type": "execute_result"
    }
   ],
   "source": [
    "sent[0]"
   ]
  },
  {
   "cell_type": "markdown",
   "metadata": {},
   "source": [
    "***"
   ]
  },
  {
   "cell_type": "code",
   "execution_count": 5,
   "metadata": {},
   "outputs": [
    {
     "name": "stdout",
     "output_type": "stream",
     "text": [
      "Saved: C:/Users/sunny/Desktop/news_nlp/星島日報_concat.csv\n"
     ]
    }
   ],
   "source": [
    "sing_tao_daily_folder = 'C:/Users/sunny/Desktop/news_nlp/sing_tao_daily_collection/'\n",
    "base_path = 'C:/Users/sunny/Desktop/news_nlp/'\n",
    "date_format='%Y-%m-%d'\n",
    "publisher='星島日報'\n",
    "\n",
    "std_news_df = process_csv(sing_tao_daily_folder, base_path, date_format, publisher)"
   ]
  },
  {
   "cell_type": "code",
   "execution_count": 6,
   "metadata": {},
   "outputs": [
    {
     "data": {
      "text/html": [
       "<div>\n",
       "<style scoped>\n",
       "    .dataframe tbody tr th:only-of-type {\n",
       "        vertical-align: middle;\n",
       "    }\n",
       "\n",
       "    .dataframe tbody tr th {\n",
       "        vertical-align: top;\n",
       "    }\n",
       "\n",
       "    .dataframe thead th {\n",
       "        text-align: right;\n",
       "    }\n",
       "</style>\n",
       "<table border=\"1\" class=\"dataframe\">\n",
       "  <thead>\n",
       "    <tr style=\"text-align: right;\">\n",
       "      <th></th>\n",
       "      <th>Title</th>\n",
       "      <th>Author</th>\n",
       "      <th>Category</th>\n",
       "      <th>Date</th>\n",
       "      <th>Link</th>\n",
       "      <th>Content</th>\n",
       "      <th>Is_offical</th>\n",
       "      <th>Content_len</th>\n",
       "    </tr>\n",
       "  </thead>\n",
       "  <tbody>\n",
       "    <tr>\n",
       "      <th>0</th>\n",
       "      <td>韓國瑜否認有私生女 控綠媒董事長誹謗</td>\n",
       "      <td>星島日報</td>\n",
       "      <td>中國</td>\n",
       "      <td>2019-06-01</td>\n",
       "      <td>http://std.stheadline.com/daily/article/detail...</td>\n",
       "      <td>（星島日報報道）台灣人氣王韓國瑜的支持者，預備在今日於台北的總統府前凱達格蘭大道舉行挺韓...</td>\n",
       "      <td>True</td>\n",
       "      <td>821</td>\n",
       "    </tr>\n",
       "    <tr>\n",
       "      <th>1</th>\n",
       "      <td>台外島部署火箭系統 射程覆蓋閩境大城市</td>\n",
       "      <td>星島日報</td>\n",
       "      <td>中國</td>\n",
       "      <td>2019-06-01</td>\n",
       "      <td>http://std.stheadline.com/daily/article/detail...</td>\n",
       "      <td>（星島日報報道）台灣媒體透露，台灣軍方已將自己研發的「雷霆2000」多管火箭系統部署在大...</td>\n",
       "      <td>True</td>\n",
       "      <td>498</td>\n",
       "    </tr>\n",
       "    <tr>\n",
       "      <th>2</th>\n",
       "      <td>魏鳳和晤美防長 強調維護主權決心</td>\n",
       "      <td>星島日報</td>\n",
       "      <td>中國</td>\n",
       "      <td>2019-06-01</td>\n",
       "      <td>http://std.stheadline.com/daily/article/detail...</td>\n",
       "      <td>（星島日報報道）中國國防部長魏鳳和，昨天傍晚同美國代理防長沙納漢在新加坡舉行了「積極、建...</td>\n",
       "      <td>True</td>\n",
       "      <td>479</td>\n",
       "    </tr>\n",
       "    <tr>\n",
       "      <th>3</th>\n",
       "      <td>霍士女主播再邀戰 劉欣：非常願意</td>\n",
       "      <td>星島日報</td>\n",
       "      <td>中國</td>\n",
       "      <td>2019-06-01</td>\n",
       "      <td>http://std.stheadline.com/daily/article/detail...</td>\n",
       "      <td>（星島日報報道）中美女主播「貿易戰辯論」前日重磅登場。雙方就貿易關稅、知識產權、華為問題...</td>\n",
       "      <td>True</td>\n",
       "      <td>620</td>\n",
       "    </tr>\n",
       "    <tr>\n",
       "      <th>4</th>\n",
       "      <td>國旗印字賣廣告 湖南車企涉違法</td>\n",
       "      <td>星島日報</td>\n",
       "      <td>中國</td>\n",
       "      <td>2019-06-01</td>\n",
       "      <td>http://std.stheadline.com/daily/article/detail...</td>\n",
       "      <td>（星島日報報道）湖南一批學生，日前公開展示一面國旗，但國旗上竟印有湖南汽車生產企業「哪吒...</td>\n",
       "      <td>True</td>\n",
       "      <td>450</td>\n",
       "    </tr>\n",
       "  </tbody>\n",
       "</table>\n",
       "</div>"
      ],
      "text/plain": [
       "                 Title Author Category       Date  \\\n",
       "0   韓國瑜否認有私生女 控綠媒董事長誹謗   星島日報       中國 2019-06-01   \n",
       "1  台外島部署火箭系統 射程覆蓋閩境大城市   星島日報       中國 2019-06-01   \n",
       "2     魏鳳和晤美防長 強調維護主權決心   星島日報       中國 2019-06-01   \n",
       "3     霍士女主播再邀戰 劉欣：非常願意   星島日報       中國 2019-06-01   \n",
       "4      國旗印字賣廣告 湖南車企涉違法   星島日報       中國 2019-06-01   \n",
       "\n",
       "                                                Link  \\\n",
       "0  http://std.stheadline.com/daily/article/detail...   \n",
       "1  http://std.stheadline.com/daily/article/detail...   \n",
       "2  http://std.stheadline.com/daily/article/detail...   \n",
       "3  http://std.stheadline.com/daily/article/detail...   \n",
       "4  http://std.stheadline.com/daily/article/detail...   \n",
       "\n",
       "                                             Content  Is_offical  Content_len  \n",
       "0  　　（星島日報報道）台灣人氣王韓國瑜的支持者，預備在今日於台北的總統府前凱達格蘭大道舉行挺韓...        True          821  \n",
       "1  　　（星島日報報道）台灣媒體透露，台灣軍方已將自己研發的「雷霆2000」多管火箭系統部署在大...        True          498  \n",
       "2  　　（星島日報報道）中國國防部長魏鳳和，昨天傍晚同美國代理防長沙納漢在新加坡舉行了「積極、建...        True          479  \n",
       "3  　　（星島日報報道）中美女主播「貿易戰辯論」前日重磅登場。雙方就貿易關稅、知識產權、華為問題...        True          620  \n",
       "4  　　（星島日報報道）湖南一批學生，日前公開展示一面國旗，但國旗上竟印有湖南汽車生產企業「哪吒...        True          450  "
      ]
     },
     "execution_count": 6,
     "metadata": {},
     "output_type": "execute_result"
    }
   ],
   "source": [
    "std_news_df.head(5)"
   ]
  },
  {
   "cell_type": "code",
   "execution_count": 9,
   "metadata": {},
   "outputs": [
    {
     "name": "stderr",
     "output_type": "stream",
     "text": [
      "Building prefix dict from C:\\Users\\sunny\\Desktop\\news_nlp\\dict.txt.big ...\n",
      "Dumping model to file cache C:\\Users\\sunny\\AppData\\Local\\Temp\\jieba.uad31746bf4d8ac03e4f91994235f9d80.cache\n",
      "Loading model cost 1.164 seconds.\n",
      "Prefix dict has been built successfully.\n"
     ]
    },
    {
     "name": "stdout",
     "output_type": "stream",
     "text": [
      "Finished sentence segementation and tokenization in 33.92 secound(s)\n"
     ]
    }
   ],
   "source": [
    "sent_segmentation_and_tokenization(base_path,publisher)"
   ]
  },
  {
   "cell_type": "markdown",
   "metadata": {},
   "source": [
    "***"
   ]
  },
  {
   "cell_type": "code",
   "execution_count": 110,
   "metadata": {},
   "outputs": [
    {
     "name": "stdout",
     "output_type": "stream",
     "text": [
      "  Key data1\n",
      "0   a     a\n",
      "1   b     2\n",
      "2   a     3\n",
      "0   a     a\n",
      "1   b   boy\n",
      "2   d   dog\n",
      "  Key data1\n",
      "0   a     a\n",
      "1   b     2\n",
      "2   a     3\n",
      "1   b   boy\n",
      "2   d   dog\n"
     ]
    }
   ],
   "source": [
    "# Experiment with 'keep' and 'inplace'\n",
    "# keep=False: delete duplicate rows, even the 'original' (options: \"first\",\"last\",False)\n",
    "# inplace=True: direct make changes to the dataframe instead of create a copy\n",
    "\n",
    "import pandas as pd\n",
    "df1 = pd.DataFrame({'Key': ['a','b','a'], 'data1': ['a', 2, 3]})\n",
    "df2 = pd.DataFrame({'Key': ['a', 'b', 'd'], 'data1': ['a', 'boy', 'dog']})\n",
    "result = pd.concat([df1,df2])\n",
    "\n",
    "print(result)\n",
    "\n",
    "result.drop_duplicates(inplace=True)\n",
    "# result.drop_duplicates(keep=\"first\",inplace=True)\n",
    "# result.drop_duplicates(keep=False,inplace=True)\n",
    "print(result)"
   ]
  }
 ],
 "metadata": {
  "kernelspec": {
   "display_name": "Python 3",
   "language": "python",
   "name": "python3"
  },
  "language_info": {
   "codemirror_mode": {
    "name": "ipython",
    "version": 3
   },
   "file_extension": ".py",
   "mimetype": "text/x-python",
   "name": "python",
   "nbconvert_exporter": "python",
   "pygments_lexer": "ipython3",
   "version": "3.8.5"
  }
 },
 "nbformat": 4,
 "nbformat_minor": 4
}
