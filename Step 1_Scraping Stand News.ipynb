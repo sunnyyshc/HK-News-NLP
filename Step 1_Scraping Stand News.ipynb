{
 "cells": [
  {
   "cell_type": "markdown",
   "metadata": {},
   "source": [
    "**Purpose**: Scraping for Stand News articles from June 1, 2019 to Dec 30, 2019.\n",
    "\n",
    "**Goal**: a set of csv files with all Stand News articles between the specified date range."
   ]
  },
  {
   "cell_type": "code",
   "execution_count": 1,
   "metadata": {},
   "outputs": [],
   "source": [
    "import bs4 as BeautifulSoup\n",
    "from urllib.request import Request, urlopen\n",
    "import re\n",
    "import pandas as pd\n",
    "import time\n",
    "import datetime"
   ]
  },
  {
   "cell_type": "code",
   "execution_count": 2,
   "metadata": {},
   "outputs": [],
   "source": [
    "stand_news_base_url = \"https://www.thestandnews.com\"\n",
    "stand_news_folder = 'C:/Users/sunny/Desktop/news_nlp/stand_news_collection/'"
   ]
  },
  {
   "cell_type": "code",
   "execution_count": 3,
   "metadata": {},
   "outputs": [],
   "source": [
    "# formatted current time\n",
    "\n",
    "def current_datetime():\n",
    "    return datetime.datetime.now().strftime(\"%Y/%m/%d - %H:%M:%S\")"
   ]
  },
  {
   "cell_type": "code",
   "execution_count": 4,
   "metadata": {},
   "outputs": [],
   "source": [
    "# read the html page to soup\n",
    "\n",
    "def page2soup(url):\n",
    "    req = Request(url, headers={'User-Agent': 'Mozilla/5.0'})\n",
    "    page = urlopen(req).read()\n",
    "    soup = BeautifulSoup.BeautifulSoup(page, \"html.parser\")\n",
    "    return soup"
   ]
  },
  {
   "cell_type": "code",
   "execution_count": 5,
   "metadata": {},
   "outputs": [],
   "source": [
    "# extract content from the article url\n",
    "\n",
    "def extract_content(url):\n",
    "    content_text=''\n",
    "    try:\n",
    "        soup = page2soup(url)\n",
    "        time.sleep(1)\n",
    "        for content in soup.find_all(\"div\", class_=\"article-content\"):\n",
    "            for p in content.find_all('p'):\n",
    "                content_text = content_text + p.text    # combine all paragraphs to a single string\n",
    "        return(content_text)\n",
    "    except:\n",
    "        print('Error777: Can not extract content: ' + url)\n",
    "        return('Error777: Can not extract content.')    # standard error message that goes into the raw data\n",
    "                                                        # will need to either back fill it or remove this article later"
   ]
  },
  {
   "cell_type": "code",
   "execution_count": 6,
   "metadata": {},
   "outputs": [],
   "source": [
    "# return a list of articles\n",
    "# each with its title, author, category, date, link and content\n",
    "# from the archive page\n",
    "\n",
    "def thestandnews_raw_article(url):\n",
    "    article_ls=[]\n",
    "    counter=0\n",
    "    soup = page2soup(url)\n",
    "    article_count=len(soup.find_all(\"div\",class_=re.compile(\"^article-block\")))\n",
    "    print(str(article_count) + ' articles to be collected.')\n",
    "    \n",
    "    for a in soup.find_all(\"div\",class_=re.compile(\"^article-block\")):\n",
    "        title = a.find(class_=\"article-title\").text.strip()\n",
    "        author = a.find(class_=\"author\").text.strip()[1:]\n",
    "        category = a.find(class_=\"category-title\").text.strip()\n",
    "        date = a.find(class_=\"date\").text.strip()\n",
    "        for url in a.find('h3'):\n",
    "            link = stand_news_base_url + url.get('href')\n",
    "        content=extract_content(link)\n",
    "        #print(title,author,category,date,link,content)\n",
    "        \n",
    "        one_article=[title,author,category,date,link,content]\n",
    "        article_ls.append(one_article)\n",
    "        #counter +=1\n",
    "        #print(str(counter) + ' out of ' + str(article_count) + ' collected.')\n",
    "    \n",
    "    return article_ls\n",
    "    \n",
    "    print(current_datetime() + ' : '+ str(len(article_ls)) + ' articles collected.')"
   ]
  },
  {
   "cell_type": "code",
   "execution_count": 7,
   "metadata": {},
   "outputs": [],
   "source": [
    "# save articles to csv files\n",
    "\n",
    "def export_to_csv(news_collection,date):\n",
    "    df = pd.DataFrame(news_collection, columns=['Title', 'Author', 'Category', 'Date', 'Link', 'Content'])\n",
    "    filename = stand_news_folder + 'news_' + date.strftime('%Y%m%d')+ '.csv'\n",
    "    export_csv = df.to_csv(filename, index=None, header=True)\n",
    "    print(current_datetime() + ' : Exported '+ date.strftime('%Y%m%d') +' news collection to csv.')"
   ]
  },
  {
   "cell_type": "code",
   "execution_count": 8,
   "metadata": {},
   "outputs": [],
   "source": [
    "# loop through the archive\n",
    "# collect all articles on each archive page\n",
    "# then save the collection to a csv file\n",
    "\n",
    "def archive_news_collection(start_date,end_date,archive_domain):\n",
    "\n",
    "    print(current_datetime() + ' : Start extracting news from ' + start_date.strftime('%Y/%m/%d') + ' to ' + end_date.strftime('%Y/%m/%d') +'.')\n",
    "\n",
    "    delta = datetime.timedelta(days=1)\n",
    "    \n",
    "    archive_date = start_date\n",
    "\n",
    "    while archive_date <= end_date:\n",
    "        news_collection = [] \n",
    "        try:\n",
    "            print(current_datetime() + ' : Start extracting news on '+ archive_date.strftime('%Y/%m/%d') + '.')\n",
    "            archive = archive_domain+ start_date.strftime('%Y%m%d')\n",
    "            a_day_of_news = thestandnews_raw_article(archive)\n",
    "            news_collection.extend(a_day_of_news)\n",
    "            # print(\"finish one day--- %s seconds ---\" % (time.time() - start_time))\n",
    "            #print(current_datetime() + ' : Finished extracting news on '+ archive_date.strftime('%Y/%m/%d') + '.')\n",
    "            export_to_csv(news_collection,archive_date)\n",
    "            archive_date += delta\n",
    "        except:\n",
    "            print('run into error : ' + current_datetime())\n",
    "            time.sleep(10)    # maybe blocked by host\n",
    "            continue"
   ]
  },
  {
   "cell_type": "code",
   "execution_count": 9,
   "metadata": {},
   "outputs": [
    {
     "name": "stdout",
     "output_type": "stream",
     "text": [
      "2021/03/25 - 02:32:42 : Start extracting news from 2019/06/01 to 2019/06/02.\n",
      "2021/03/25 - 02:32:42 : Start extracting news on 2019/06/01.\n",
      "29 articles to be collected.\n",
      "2021/03/25 - 02:34:32 : Exported 20190601 news collection to csv.\n",
      "2021/03/25 - 02:34:32 : Start extracting news on 2019/06/02.\n",
      "29 articles to be collected.\n",
      "2021/03/25 - 02:36:21 : Exported 20190602 news collection to csv.\n"
     ]
    }
   ],
   "source": [
    "# scrape for articles\n",
    "\n",
    "start_date = datetime.date(2019,6,1)\n",
    "end_date = datetime.date(2019,6,2)\n",
    "#end_date = datetime.date(2019,12,30)\n",
    "\n",
    "archive_domain = 'https://www.thestandnews.com/archive/'\n",
    "\n",
    "archive_news_collection(start_date,end_date,archive_domain)"
   ]
  },
  {
   "cell_type": "markdown",
   "metadata": {},
   "source": [
    "Above shows an example on scraping for 2 days of worth of news.\n",
    "The final dataset scraped all news from Jun 1, 2019 to Dec 30, 2020."
   ]
  }
 ],
 "metadata": {
  "kernelspec": {
   "display_name": "Python 3",
   "language": "python",
   "name": "python3"
  },
  "language_info": {
   "codemirror_mode": {
    "name": "ipython",
    "version": 3
   },
   "file_extension": ".py",
   "mimetype": "text/x-python",
   "name": "python",
   "nbconvert_exporter": "python",
   "pygments_lexer": "ipython3",
   "version": "3.8.5"
  }
 },
 "nbformat": 4,
 "nbformat_minor": 4
}
